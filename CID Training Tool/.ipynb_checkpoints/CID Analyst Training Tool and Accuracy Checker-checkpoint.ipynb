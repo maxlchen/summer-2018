{
 "cells": [
  {
   "cell_type": "code",
   "execution_count": 1,
   "metadata": {
    "collapsed": true
   },
   "outputs": [],
   "source": [
    "#Developer: Max Chen \n",
    "\n",
    "import pandas\n",
    "\n",
    "#Load in first Analyst's CID file\n",
    "data1 = pandas.DataFrame(data = pandas.read_csv('samplecid1.csv', header = None, names = ['Category', 'Legal Name', 'Ticker'])\n",
    "                         .fillna(value = 0))\n",
    "\n",
    "#Creating arrays to correspond to the appropriate column of the CID file. Blanks have been filled in as zero.\n",
    "cat1 = data1['Category']\n",
    "name1 = data1['Legal Name']\n",
    "tick1 = data1['Ticker']\n"
   ]
  },
  {
   "cell_type": "code",
   "execution_count": 2,
   "metadata": {
    "collapsed": true
   },
   "outputs": [],
   "source": [
    "#Load in second Analyst's CID file\n",
    "data2 = pandas.DataFrame(data = pandas.read_csv('samplecid2.csv', header = None, names = ['Category', 'Legal Name', 'Ticker'])\n",
    "                         .fillna(value = 0))\n",
    "\n",
    "#Creating arrays to correspond to the appropriate column of the CID file. Blanks have been filled in as zero.\n",
    "cat2 = data2['Category']\n",
    "name2 = data2['Legal Name']\n",
    "tick2 = data2['Ticker']"
   ]
  },
  {
   "cell_type": "code",
   "execution_count": 3,
   "metadata": {},
   "outputs": [
    {
     "name": "stdout",
     "output_type": "stream",
     "text": [
      "Incorrect RR Category: 260\n",
      "RR Category Percentage Match: 99.66666666666667%\n"
     ]
    }
   ],
   "source": [
    "#Grade RR Categories\n",
    "incorrectCounter = 0\n",
    "\n",
    "#Use the length of one array as an index - these should be the same size because blanks have been filled in as zero.\n",
    "for i in range(0, cat1.size):\n",
    "    #Compare the listed category from both analysts\n",
    "    if(cat1[i] != cat2[i]):\n",
    "        #If there is a difference between the two listed categories, flag the error and decrease accuracy percentage.\n",
    "        #Print the line viewable in Excel for the erraneous category\n",
    "        print('Incorrect RR Category: ' + str(i + 1))\n",
    "        incorrectCounter += 1\n",
    "\n",
    "#Calculate final accuracy\n",
    "percentage = ((cat1.size - incorrectCounter) / cat1.size) * 100\n",
    "print('RR Category Percentage Match: ' + str(percentage) + '%')\n"
   ]
  },
  {
   "cell_type": "code",
   "execution_count": 4,
   "metadata": {},
   "outputs": [
    {
     "name": "stdout",
     "output_type": "stream",
     "text": [
      "RR Legal Name Percentage Match: 100.0%\n"
     ]
    }
   ],
   "source": [
    "#Grade RR Legal Names\n",
    "incorrectCounter = 0\n",
    "\n",
    "#Use the length of one array as an index - these should be the same size because blanks have been filled in as zero.\n",
    "for i in range(0, name1.size):\n",
    "    \n",
    "    #Ensure that all names are the same format\n",
    "    if not (isinstance(name1[i], int)):\n",
    "        name1[i] = name1[i].upper()\n",
    "    if not (isinstance(name2[i], int)):\n",
    "        name2[i] = name2[i].upper()\n",
    "        \n",
    "    #Compare the listed company name from both analysts\n",
    "    if(name1[i] != name2[i]):\n",
    "        #If there is a difference between the two listed names, flag the error and decrease accuracy percentage.\n",
    "        #Print the line viewable in Excel for the erraneous name\n",
    "        print('Incorrect RR Category: ' + str(i + 1))\n",
    "        incorrectCounter += 1\n",
    "        \n",
    "percentage = ((name1.size - incorrectCounter) / name1.size) * 100\n",
    "print('RR Legal Name Percentage Match: ' + str(percentage) + '%')\n"
   ]
  },
  {
   "cell_type": "code",
   "execution_count": 5,
   "metadata": {},
   "outputs": [
    {
     "name": "stdout",
     "output_type": "stream",
     "text": [
      "RR Ticker & Exchange Percentage Match: 100.0%\n"
     ]
    }
   ],
   "source": [
    "#Grade RR Ticker & Exchange\n",
    "incorrectCounter = 0\n",
    "\n",
    "#Use the length of one array as an index - these should be the same size because blanks have been filled in as zero.\n",
    "for i in range(0, name1.size):\n",
    "    \n",
    "    #Ensure that all names are the same format\n",
    "    if not (isinstance(tick1[i], int)):\n",
    "        tick1[i] = tick1[i].upper()\n",
    "    if not (isinstance(tick2[i], int)):\n",
    "        tick2[i] = tick2[i].upper()\n",
    "        \n",
    "    #Compare the listed company name from both analysts\n",
    "    if(tick1[i] != tick2[i]):\n",
    "        #If there is a difference between the two listed names, flag the error and decrease accuracy percentage.\n",
    "        #Print the line viewable in Excel for the erraneous name\n",
    "        print('Incorrect RR Ticker & Exchange: ' + str(i + 1))\n",
    "        incorrectCounter += 1\n",
    "        \n",
    "percentage = ((tick1.size - incorrectCounter) / tick1.size) * 100\n",
    "print('RR Ticker & Exchange Percentage Match: ' + str(percentage) + '%')\n"
   ]
  },
  {
   "cell_type": "code",
   "execution_count": null,
   "metadata": {
    "collapsed": true
   },
   "outputs": [],
   "source": []
  }
 ],
 "metadata": {
  "kernelspec": {
   "display_name": "Python 3",
   "language": "python",
   "name": "python3"
  },
  "language_info": {
   "codemirror_mode": {
    "name": "ipython",
    "version": 3
   },
   "file_extension": ".py",
   "mimetype": "text/x-python",
   "name": "python",
   "nbconvert_exporter": "python",
   "pygments_lexer": "ipython3",
   "version": "3.6.1"
  }
 },
 "nbformat": 4,
 "nbformat_minor": 2
}
